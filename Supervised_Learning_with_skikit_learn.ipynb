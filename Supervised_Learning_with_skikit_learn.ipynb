{
  "nbformat": 4,
  "nbformat_minor": 0,
  "metadata": {
    "colab": {
      "provenance": [],
      "authorship_tag": "ABX9TyPQnPlYajGU55GzTOOWTm0Q",
      "include_colab_link": true
    },
    "kernelspec": {
      "name": "python3",
      "display_name": "Python 3"
    },
    "language_info": {
      "name": "python"
    }
  },
  "cells": [
    {
      "cell_type": "markdown",
      "metadata": {
        "id": "view-in-github",
        "colab_type": "text"
      },
      "source": [
        "<a href=\"https://colab.research.google.com/github/nirmalaraj77/AI-Fundamentals/blob/main/Supervised_Learning_with_skikit_learn.ipynb\" target=\"_parent\"><img src=\"https://colab.research.google.com/assets/colab-badge.svg\" alt=\"Open In Colab\"/></a>"
      ]
    },
    {
      "cell_type": "markdown",
      "source": [
        "#**Machine Learning**\n",
        "* Machine learning is the process whereby computers learn to make decisions from data,\n",
        "\n",
        "* Without being explicitly programmed.\n",
        "\n",
        "* For example, learning to predict whether an email is spam or not spam given its content and sender.\n",
        "\n",
        "* Or learning to cluster books into different categories based on the words they contain, then assigning any new book to one of the existing clusters.\n",
        "\n",
        "\n",
        "#**Unsupervised Learning**\n",
        "* Uncovering hidden patters from unlabeled data.\n",
        "\n",
        "* Example, grouping customers into distinct categories (clustering) without knowing in advance what these catgories are.\n"
      ],
      "metadata": {
        "id": "8jfaBr2nmRu-"
      }
    },
    {
      "cell_type": "markdown",
      "source": [
        "#**Supervised Learning**\n",
        "* The predicted values are known.\n",
        "\n",
        "* Aim:Predict the target value of unseen data,given the features.\n",
        "\n",
        "* Uses labels.\n",
        "\n",
        "#**Types of Supervised Learning**\n",
        "\n",
        "* Classification: Target variable consists of categories (e.g. binary classification)\n",
        "\n",
        "* Regression: Target variable is continous (predict price based on bedrooms and size)\n",
        "\n",
        "#**Naming Conventions**\n",
        "* Feature = predictor variable = independent variable\n",
        "\n",
        "* target variable = dependent variable = response variable\n",
        "\n",
        "#**Before using Supervised Learning**\n",
        "\n",
        "* No missing values\n",
        "* Data in numeric format\n",
        "* Data stored in pandas DataFrame or NumPy array\n",
        "* Perform EDA first\n",
        "\n"
      ],
      "metadata": {
        "id": "bTm0PmsxmYA8"
      }
    },
    {
      "cell_type": "markdown",
      "source": [
        "#**scikit-learn syntax**\n",
        "\n",
        "* Import a Model from an sklearn module.\n",
        "* Example, the k-Nearest Neighbors model uses distance between observations to predict labels or values.\n",
        "* from sklearn module import model\n",
        "\n",
        "* Create variable name model and Instantiate Model\n",
        "* model = Model()\n",
        "\n",
        "* Fit model to data where it learns patterns about the features and the target variable.\n",
        "* Fit the model to X, an array of features, and y, an array of target variable values.\n",
        "model.fit (X, y)\n",
        "\n",
        "* Use the model's dot-predict method, passing six new observations, X_new.\n",
        "* For example, if feeding features from six emails to a spam classification model, an array of six values is returned.\n",
        "* A one indicates the model predicts that email is spam, and a zero represents a prediction of not spam.\n",
        "* predictions = model.predict(X_new)"
      ],
      "metadata": {
        "id": "P4tTkxfpmsmz"
      }
    },
    {
      "cell_type": "markdown",
      "source": [
        "#**Build classification model, or classifier, to predict labels of unseen data**\n",
        "\n",
        "##**There are four steps**\n",
        "\n",
        "1. First, we build a classifier (model)\n",
        "\n",
        "2. Model learns from the labeled data we pass to it.\n",
        "\n",
        "3. We then pass it unlabeled data as input\n",
        "\n",
        "4. Model predicts labels for this unseen data.\n",
        "\n",
        "* As the classifier learns from the labeled data, we call this the training data.\n",
        "\n",
        "##**k-Nearest Neighbours (KNN)**\n",
        "\n",
        "* Predict the label of a data point by\n",
        "\n",
        "  * Looking at the k closest data points.\n",
        "  * Taking a majority vote\n",
        "\n",
        "* KNN creates a decision boundary\n",
        "\n",
        "##**Requirements**\n",
        "* scikit-learn requires that the features are in an array where each column is a feature and each row a different observation.\n",
        "\n",
        "* Similarly, the target needs to be a single column with the same number of observations as the feature data.\n",
        "\n",
        "\n",
        "\n",
        "\n",
        "\n",
        "\n"
      ],
      "metadata": {
        "id": "foBJ-_4Fmsh0"
      }
    },
    {
      "cell_type": "code",
      "source": [
        "# Import libraries and datasets\n",
        "\n",
        "import numpy as np\n",
        "import pandas as pd\n",
        "import matplotlib.pyplot as plt\n",
        "import seaborn as sns\n",
        "\n",
        "\n",
        "advertising = pd.read_csv('https://raw.githubusercontent.com/nirmalaraj77/AI-Fundamentals/refs/heads/main/advertising_and_sales_clean.csv')\n",
        "diabetes = pd.read_csv('https://raw.githubusercontent.com/nirmalaraj77/AI-Fundamentals/refs/heads/main/diabetes_clean.csv')\n",
        "music = pd.read_csv('https://raw.githubusercontent.com/nirmalaraj77/AI-Fundamentals/refs/heads/main/music_clean.csv')\n",
        "telecom = pd.read_csv('https://raw.githubusercontent.com/nirmalaraj77/AI-Fundamentals/refs/heads/main/telecom_churn_clean.csv')\n"
      ],
      "metadata": {
        "id": "Mco1A0zVq6WH"
      },
      "execution_count": 1,
      "outputs": []
    },
    {
      "cell_type": "code",
      "source": [
        "# Using scikit-learn to fit a classifier\n",
        "\n",
        "## Import KNN\n",
        "from sklearn.neighbors import KNeighborsClassifier\n",
        "\n",
        "## Split data into X (2D array of features day_charge, eve-Charge)\n",
        "X = telecom[['total_day_charge', 'total_eve_charge']].values\n",
        "\n",
        "## and split data into y (1D array of target values - churn)\n",
        "y = telecom[['churn']].values\n",
        "\n",
        "## Check shapes of X and y - there are 3333 observations of 2 features, and 3333 observations of the target variable.\n",
        "print(X.shape, y.shape)"
      ],
      "metadata": {
        "id": "SIEsEVdhwLEU",
        "outputId": "0f3df1d1-fab1-4d68-d5d1-f242374f3ed7",
        "colab": {
          "base_uri": "https://localhost:8080/"
        }
      },
      "execution_count": 2,
      "outputs": [
        {
          "output_type": "stream",
          "name": "stdout",
          "text": [
            "(3333, 2) (3333, 1)\n"
          ]
        }
      ]
    },
    {
      "cell_type": "code",
      "source": [
        "## Instantiate KNeighboursClassifier - setting n_neighbours to 15\n",
        "knn = KNeighborsClassifier(n_neighbors=15)\n",
        "\n",
        "## Fit model to data\n",
        "knn.fit(X, y)\n",
        "\n",
        "## Create set of nerw observations X_new\n",
        "X_new = np.array([[56.8, 17.5],\n",
        "                 [24.4, 24.1],\n",
        "                  [50.1, 10.9]])\n",
        "\n",
        "## Check shape of X_new - there are 3 observations of 2 features\n",
        "print (X_new.shape)"
      ],
      "metadata": {
        "id": "tLv17VrOyfw_",
        "outputId": "630bedfb-4838-4177-e1f3-95fa5e236bb2",
        "colab": {
          "base_uri": "https://localhost:8080/"
        }
      },
      "execution_count": 3,
      "outputs": [
        {
          "output_type": "stream",
          "name": "stdout",
          "text": [
            "(3, 2)\n"
          ]
        },
        {
          "output_type": "stream",
          "name": "stderr",
          "text": [
            "/usr/local/lib/python3.11/dist-packages/sklearn/neighbors/_classification.py:239: DataConversionWarning: A column-vector y was passed when a 1d array was expected. Please change the shape of y to (n_samples,), for example using ravel().\n",
            "  return self._fit(X, y)\n"
          ]
        }
      ]
    },
    {
      "cell_type": "code",
      "source": [
        "##  Use the classifier's .predict method and pass it the unseen data as a 2D NumPy array\n",
        "predictions = knn.predict(X_new)\n",
        "\n",
        "## Print the predictions for the new data\n",
        "print(\"Predictions: {}\".format(predictions))\n",
        "\n",
        "## Returns a binary value for each observation or row in X_new.\n",
        "## It predicts 1, which corresponds to 'churn', for the first observation,\n",
        "## and 0, which corresponds to 'no churn', for the second and third observations."
      ],
      "metadata": {
        "id": "LIE-tBJ2z7jU",
        "outputId": "1b285967-4614-4c50-f273-ba0e3f23a368",
        "colab": {
          "base_uri": "https://localhost:8080/"
        }
      },
      "execution_count": 4,
      "outputs": [
        {
          "output_type": "stream",
          "name": "stdout",
          "text": [
            "Predictions: [1 0 0]\n"
          ]
        }
      ]
    },
    {
      "cell_type": "markdown",
      "source": [
        "#**Measuring Model Performance**\n",
        "\n",
        "* In classification, accuracy is a commonly-used metric.\n",
        "* Number of correct predictions / total number of observations.\n",
        "\n",
        "##**Computing accuracy**\n",
        "\n",
        "* It is common to split data into a training set and a test set.\n",
        "\n",
        "* We fit the classifier using the training set,\n",
        "\n",
        "* then we calculate the model's accuracy against the test set's labels.\n",
        "\n",
        "##**Train / test split**\n",
        "* Import train_test_split from sklearn.model_selection.\n",
        "\n",
        "* We call train_test_split, passing our features and targets.\n",
        "\n",
        "* We commonly use 20-30% of our data as the test set - by setting the test_size argument to 0.2 - 0.3\n",
        "\n",
        "* Random_state argument sets a seed - allows us to reproduce the exact split\n",
        "\n",
        "* **It is best practice to ensure our split reflects the proportion of labels in our data.**\n",
        "\n",
        "* So if churn occurs in 10% of observations, we want 10% of labels in our training and test sets to represent churn.\n",
        "\n",
        "* We achieve this by setting stratify equal to y.\n",
        "\n",
        "* train_test_split returns four arrays: the training data, the test data, the training labels, and the test labels.\n",
        "\n",
        "* We unpack these into X_train, X_test, y_train, and y_test, respectively.\n",
        "\n",
        "* We then instantiate a KNN model and fit it to the training data using the dot-fit method.\n",
        "\n",
        "* To check the accuracy, we use the dot.score method, passing X test and y test.\n",
        "\n",
        "* The accuracy of our model is 88%, which is low given our labels have a 9 to 1 ratio."
      ],
      "metadata": {
        "id": "dp2wbu9P5Hrj"
      }
    },
    {
      "cell_type": "code",
      "source": [
        "# Train/test split\n",
        "\n",
        "## Import train/test split\n",
        "from sklearn.model_selection import train_test_split\n",
        "\n",
        "## Split data into X (2D array of features) and y (1D array of target values)\n",
        "X = telecom[['total_day_charge', 'total_eve_charge']].values\n",
        "y = telecom[['churn']].values\n",
        "\n",
        "## Split data into training and test sets\n",
        "X_train, X_test, y_train, y_test = train_test_split(X, y, test_size=0.3, random_state=21, stratify=y)\n",
        "\n",
        "## Instantiate knn model and fit to training data\n",
        "knn = KNeighborsClassifier(n_neighbors=6)\n",
        "knn.fit(X_train, y_train)\n",
        "\n",
        "## Score model on test data\n",
        "print(knn.score(X_test, y_test))"
      ],
      "metadata": {
        "id": "bDMtgMA86jL8",
        "outputId": "12ce51b5-77cb-42fa-efdb-893f9ffe7f6c",
        "colab": {
          "base_uri": "https://localhost:8080/"
        }
      },
      "execution_count": 5,
      "outputs": [
        {
          "output_type": "stream",
          "name": "stdout",
          "text": [
            "0.872\n"
          ]
        },
        {
          "output_type": "stream",
          "name": "stderr",
          "text": [
            "/usr/local/lib/python3.11/dist-packages/sklearn/neighbors/_classification.py:239: DataConversionWarning: A column-vector y was passed when a 1d array was expected. Please change the shape of y to (n_samples,), for example using ravel().\n",
            "  return self._fit(X, y)\n"
          ]
        }
      ]
    },
    {
      "cell_type": "markdown",
      "source": [
        "#**Model complexity**\n",
        "* Let's discuss how to interpret k.\n",
        "\n",
        "* Recall that we discussed decision boundaries, which are thresholds for determining what label a model assigns to an observation.\n",
        "\n",
        "* E.g. as k increases, the decision boundary is less affected by individual observations, reflecting a simpler model.\n",
        "\n",
        "* **Simpler models are less able to detect relationships in the dataset, which is known as underfitting**.\n",
        "\n",
        "* **In contrast, complex models can be sensitive to noise in the training data, rather than reflecting general trends. This is known as overfitting.**\n",
        "\n",
        "#**Model complexity and over/underfitting**\n",
        "* We can also interpret k using a model complexity curve.\n",
        "\n",
        "* With a KNN model, we can calculate accuracy on the training and test sets using incremental k values, and plot the results.\n",
        "\n",
        "* We create empty dictionaries to store our train and test accuracies, and an array containing a range of k values.\n",
        "\n",
        "* We use a for loop to repeat our previous workflow, building several models using a different number of neighbors.\n",
        "\n",
        "* We loop through our neighbors array and, inside the loop, we instantiate a KNN model with n_neighbors equal to the neighbor iterator, and fit to the training data.\n",
        "\n",
        "* We then calculate training and test set accuracy, storing the results in their respective dictionaries."
      ],
      "metadata": {
        "id": "25HR0GrK78mr"
      }
    },
    {
      "cell_type": "code",
      "source": [
        "# Model complexity and over/under fitting\n",
        "train_accuracies = {}\n",
        "test_accuracies = {}\n",
        "\n",
        "neighbors = np.arange(1, 26)\n",
        "\n",
        "for neighbor in neighbors:\n",
        "  knn = KNeighborsClassifier(n_neighbors=neighbor)\n",
        "  knn.fit(X_train, y_train)\n",
        "  train_accuracies[neighbor] = knn.score(X_train, y_train)\n",
        "  test_accuracies[neighbor] = knn.score(X_test, y_test)\n",
        "\n",
        "# Plot results\n",
        "plt.figure(figsize=(8,6))\n",
        "plt.title(\"KNN: Varying Number of Neighbors\")\n",
        "plt.plot(neighbors, train_accuracies.values(), label=\"Training Accuracy\")\n",
        "plt.plot(neighbors, test_accuracies.values(), label=\"Testing Accuracy\")\n",
        "plt.legend()\n",
        "plt.xlabel(\"Number of Neighbors\")\n",
        "plt.ylabel(\"Accuracy\")\n",
        "plt.show()\n",
        "\n",
        "## As k increases beyond 15 we see underfitting where performance plateaus on both test and training sets, as indicated in this plot.\n",
        "\n",
        "## The peak test accuracy actually occurs at around 13 neighbors."
      ],
      "metadata": {
        "id": "Op6InJtS8tjc",
        "outputId": "7c966694-dd5f-4e11-def3-b31bd08aeca2",
        "colab": {
          "base_uri": "https://localhost:8080/",
          "height": 1000
        }
      },
      "execution_count": 6,
      "outputs": [
        {
          "output_type": "stream",
          "name": "stderr",
          "text": [
            "/usr/local/lib/python3.11/dist-packages/sklearn/neighbors/_classification.py:239: DataConversionWarning: A column-vector y was passed when a 1d array was expected. Please change the shape of y to (n_samples,), for example using ravel().\n",
            "  return self._fit(X, y)\n",
            "/usr/local/lib/python3.11/dist-packages/sklearn/neighbors/_classification.py:239: DataConversionWarning: A column-vector y was passed when a 1d array was expected. Please change the shape of y to (n_samples,), for example using ravel().\n",
            "  return self._fit(X, y)\n",
            "/usr/local/lib/python3.11/dist-packages/sklearn/neighbors/_classification.py:239: DataConversionWarning: A column-vector y was passed when a 1d array was expected. Please change the shape of y to (n_samples,), for example using ravel().\n",
            "  return self._fit(X, y)\n",
            "/usr/local/lib/python3.11/dist-packages/sklearn/neighbors/_classification.py:239: DataConversionWarning: A column-vector y was passed when a 1d array was expected. Please change the shape of y to (n_samples,), for example using ravel().\n",
            "  return self._fit(X, y)\n",
            "/usr/local/lib/python3.11/dist-packages/sklearn/neighbors/_classification.py:239: DataConversionWarning: A column-vector y was passed when a 1d array was expected. Please change the shape of y to (n_samples,), for example using ravel().\n",
            "  return self._fit(X, y)\n",
            "/usr/local/lib/python3.11/dist-packages/sklearn/neighbors/_classification.py:239: DataConversionWarning: A column-vector y was passed when a 1d array was expected. Please change the shape of y to (n_samples,), for example using ravel().\n",
            "  return self._fit(X, y)\n",
            "/usr/local/lib/python3.11/dist-packages/sklearn/neighbors/_classification.py:239: DataConversionWarning: A column-vector y was passed when a 1d array was expected. Please change the shape of y to (n_samples,), for example using ravel().\n",
            "  return self._fit(X, y)\n",
            "/usr/local/lib/python3.11/dist-packages/sklearn/neighbors/_classification.py:239: DataConversionWarning: A column-vector y was passed when a 1d array was expected. Please change the shape of y to (n_samples,), for example using ravel().\n",
            "  return self._fit(X, y)\n",
            "/usr/local/lib/python3.11/dist-packages/sklearn/neighbors/_classification.py:239: DataConversionWarning: A column-vector y was passed when a 1d array was expected. Please change the shape of y to (n_samples,), for example using ravel().\n",
            "  return self._fit(X, y)\n",
            "/usr/local/lib/python3.11/dist-packages/sklearn/neighbors/_classification.py:239: DataConversionWarning: A column-vector y was passed when a 1d array was expected. Please change the shape of y to (n_samples,), for example using ravel().\n",
            "  return self._fit(X, y)\n",
            "/usr/local/lib/python3.11/dist-packages/sklearn/neighbors/_classification.py:239: DataConversionWarning: A column-vector y was passed when a 1d array was expected. Please change the shape of y to (n_samples,), for example using ravel().\n",
            "  return self._fit(X, y)\n",
            "/usr/local/lib/python3.11/dist-packages/sklearn/neighbors/_classification.py:239: DataConversionWarning: A column-vector y was passed when a 1d array was expected. Please change the shape of y to (n_samples,), for example using ravel().\n",
            "  return self._fit(X, y)\n",
            "/usr/local/lib/python3.11/dist-packages/sklearn/neighbors/_classification.py:239: DataConversionWarning: A column-vector y was passed when a 1d array was expected. Please change the shape of y to (n_samples,), for example using ravel().\n",
            "  return self._fit(X, y)\n",
            "/usr/local/lib/python3.11/dist-packages/sklearn/neighbors/_classification.py:239: DataConversionWarning: A column-vector y was passed when a 1d array was expected. Please change the shape of y to (n_samples,), for example using ravel().\n",
            "  return self._fit(X, y)\n",
            "/usr/local/lib/python3.11/dist-packages/sklearn/neighbors/_classification.py:239: DataConversionWarning: A column-vector y was passed when a 1d array was expected. Please change the shape of y to (n_samples,), for example using ravel().\n",
            "  return self._fit(X, y)\n",
            "/usr/local/lib/python3.11/dist-packages/sklearn/neighbors/_classification.py:239: DataConversionWarning: A column-vector y was passed when a 1d array was expected. Please change the shape of y to (n_samples,), for example using ravel().\n",
            "  return self._fit(X, y)\n",
            "/usr/local/lib/python3.11/dist-packages/sklearn/neighbors/_classification.py:239: DataConversionWarning: A column-vector y was passed when a 1d array was expected. Please change the shape of y to (n_samples,), for example using ravel().\n",
            "  return self._fit(X, y)\n",
            "/usr/local/lib/python3.11/dist-packages/sklearn/neighbors/_classification.py:239: DataConversionWarning: A column-vector y was passed when a 1d array was expected. Please change the shape of y to (n_samples,), for example using ravel().\n",
            "  return self._fit(X, y)\n",
            "/usr/local/lib/python3.11/dist-packages/sklearn/neighbors/_classification.py:239: DataConversionWarning: A column-vector y was passed when a 1d array was expected. Please change the shape of y to (n_samples,), for example using ravel().\n",
            "  return self._fit(X, y)\n",
            "/usr/local/lib/python3.11/dist-packages/sklearn/neighbors/_classification.py:239: DataConversionWarning: A column-vector y was passed when a 1d array was expected. Please change the shape of y to (n_samples,), for example using ravel().\n",
            "  return self._fit(X, y)\n",
            "/usr/local/lib/python3.11/dist-packages/sklearn/neighbors/_classification.py:239: DataConversionWarning: A column-vector y was passed when a 1d array was expected. Please change the shape of y to (n_samples,), for example using ravel().\n",
            "  return self._fit(X, y)\n",
            "/usr/local/lib/python3.11/dist-packages/sklearn/neighbors/_classification.py:239: DataConversionWarning: A column-vector y was passed when a 1d array was expected. Please change the shape of y to (n_samples,), for example using ravel().\n",
            "  return self._fit(X, y)\n",
            "/usr/local/lib/python3.11/dist-packages/sklearn/neighbors/_classification.py:239: DataConversionWarning: A column-vector y was passed when a 1d array was expected. Please change the shape of y to (n_samples,), for example using ravel().\n",
            "  return self._fit(X, y)\n",
            "/usr/local/lib/python3.11/dist-packages/sklearn/neighbors/_classification.py:239: DataConversionWarning: A column-vector y was passed when a 1d array was expected. Please change the shape of y to (n_samples,), for example using ravel().\n",
            "  return self._fit(X, y)\n",
            "/usr/local/lib/python3.11/dist-packages/sklearn/neighbors/_classification.py:239: DataConversionWarning: A column-vector y was passed when a 1d array was expected. Please change the shape of y to (n_samples,), for example using ravel().\n",
            "  return self._fit(X, y)\n"
          ]
        },
        {
          "output_type": "display_data",
          "data": {
            "text/plain": [
              "<Figure size 800x600 with 1 Axes>"
            ],
            "image/png": "[encoded data removed]"
          },
          "metadata": {}
        }
      ]
    }
  ]
}