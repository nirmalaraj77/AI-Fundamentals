{
  "nbformat": 4,
  "nbformat_minor": 0,
  "metadata": {
    "colab": {
      "provenance": [],
      "authorship_tag": "ABX9TyPRZordVeKtAR7/7zEsktEB",
      "include_colab_link": true
    },
    "kernelspec": {
      "name": "python3",
      "display_name": "Python 3"
    },
    "language_info": {
      "name": "python"
    }
  },
  "cells": [
    {
      "cell_type": "markdown",
      "metadata": {
        "id": "view-in-github",
        "colab_type": "text"
      },
      "source": [
        "<a href=\"https://colab.research.google.com/github/nirmalaraj77/AI-Fundamentals/blob/main/Supervised_Learning_with_skikit_learn.ipynb\" target=\"_parent\"><img src=\"https://colab.research.google.com/assets/colab-badge.svg\" alt=\"Open In Colab\"/></a>"
      ]
    },
    {
      "cell_type": "markdown",
      "source": [
        "#**Machine Learning**\n",
        "* Machine learning is the process whereby computers learn to make decisions from data,\n",
        "\n",
        "* Without being explicitly programmed.\n",
        "\n",
        "* For example, learning to predict whether an email is spam or not spam given its content and sender.\n",
        "\n",
        "* Or learning to cluster books into different categories based on the words they contain, then assigning any new book to one of the existing clusters.\n",
        "\n",
        "\n",
        "#**Unsupervised Learning**\n",
        "* Uncovering hidden patters from unlabeled data.\n",
        "\n",
        "* Example, grouping customers into distinct categories (clustering) without knowing in advance what these catgories are.\n"
      ],
      "metadata": {
        "id": "8jfaBr2nmRu-"
      }
    },
    {
      "cell_type": "markdown",
      "source": [
        "#**Supervised Learning**\n",
        "* The predicted values are known.\n",
        "\n",
        "* Aim:Predict the target value of unseen data,given the features.\n",
        "\n",
        "#**Types of Supervised Learning**\n",
        "\n",
        "* Classification: Target variable consists of categories (e.g. binary classification)\n",
        "\n",
        "* Regression: Target variable is continous (predict price based on bedrooms and size)\n",
        "\n",
        "#**Naming Conventions**\n",
        "* Fearture = predictor variable = independent variable\n",
        "\n",
        "* target variable = dependent variable = response variable\n",
        "\n",
        "#**Before using Supervised Learning**\n",
        "\n",
        "* No missing values\n",
        "* Data in numeric format\n",
        "* Data stored in pandas DataFrame or NumPy array\n",
        "* Perform EDA first\n",
        "\n"
      ],
      "metadata": {
        "id": "bTm0PmsxmYA8"
      }
    },
    {
      "cell_type": "markdown",
      "source": [
        "#**scikit-learn syntax**\n",
        "\n",
        "* Import a Model from an sklearn module.\n",
        "* Example, the k-Nearest Neighbors model uses distance between observations to predict labels or values.\n",
        "* from sklearn module import model\n",
        "\n",
        "* Create variable name model and Instantiate Model\n",
        "* model = Model()\n",
        "\n",
        "* Fit model to data where it learns patterns about the features and the target variable.\n",
        "* Fit the model to X, an array of features, and y, an array of target variable values.\n",
        "model.fit (X, y)\n",
        "\n",
        "* Use the model's dot-predict method, passing six new observations, X_new.\n",
        "* For example, if feeding features from six emails to a spam classification model, an array of six values is returned.\n",
        "* A one indicates the model predicts that email is spam, and a zero represents a prediction of not spam.\n",
        "* predictions = model.predict(X_new)"
      ],
      "metadata": {
        "id": "P4tTkxfpmsmz"
      }
    },
    {
      "cell_type": "markdown",
      "source": [],
      "metadata": {
        "id": "foBJ-_4Fmsh0"
      }
    }
  ]
}